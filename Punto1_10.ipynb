{
  "nbformat": 4,
  "nbformat_minor": 0,
  "metadata": {
    "colab": {
      "provenance": []
    },
    "kernelspec": {
      "name": "python3",
      "display_name": "Python 3"
    },
    "language_info": {
      "name": "python"
    }
  },
  "cells": [
    {
      "cell_type": "code",
      "execution_count": null,
      "metadata": {
        "id": "YeeNcdPVGAyD"
      },
      "outputs": [],
      "source": [
        "def Suma(Lista):\n",
        "  n=0\n",
        "  for i in Lista:\n",
        "    n+=i\n",
        "  return(n)\n",
        "\n",
        "print(\"Ingrese 5 números reales: \")\n",
        "Lista=[]\n",
        "a=float(input(\"a: \"))\n",
        "b=float(input(\"b: \"))\n",
        "c=float(input(\"c: \"))\n",
        "d=float(input(\"d: \"))\n",
        "e=float(input(\"e: \"))\n",
        "Lista.append(a)\n",
        "Lista.append(b)\n",
        "Lista.append(c)\n",
        "Lista.append(d)\n",
        "Lista.append(e)\n",
        "Suma= Suma(Lista)\n",
        "Promedio= Suma/5\n",
        "print(f\"Este es el promedio de los números que ingresó: {Promedio}\")"
      ]
    }
  ]
}