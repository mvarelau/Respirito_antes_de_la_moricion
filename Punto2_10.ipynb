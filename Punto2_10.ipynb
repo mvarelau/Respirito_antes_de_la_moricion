{
  "nbformat": 4,
  "nbformat_minor": 0,
  "metadata": {
    "colab": {
      "provenance": []
    },
    "kernelspec": {
      "name": "python3",
      "display_name": "Python 3"
    },
    "language_info": {
      "name": "python"
    }
  },
  "cells": [
    {
      "cell_type": "code",
      "source": [
        "print(\"Ingrese 3 números reales: \")\n",
        "Lista_1=[]\n",
        "a=float(input(\"a: \"))\n",
        "e=float(input(\"e: \"))\n",
        "i=float(input(\"i: \"))\n",
        "Lista_1.append(a)\n",
        "Lista_1.append(e)\n",
        "Lista_1.append(i)\n",
        "print(\"Ingrese 3 números reales: \")\n",
        "Lista_2=[]\n",
        "x=float(input(\"x: \"))\n",
        "y=float(input(\"y: \"))\n",
        "z=float(input(\"z: \"))\n",
        "Lista_2.append(x)\n",
        "Lista_2.append(y)\n",
        "Lista_2.append(z)\n",
        "Lista_de_multiplicacion=[Lista_1[i]*Lista_2[i] for i in range(len(Lista_1))]\n",
        "print(f\"Esta es la lista de las multiplucaciones uno a uno: {Lista_de_multiplicacion}\")\n",
        "n=0\n",
        "for i in Lista_de_multiplicacion:\n",
        "  n+=i\n",
        "print(f\"El producto punto entre esos dos vectores es: {n}\")"
      ],
      "metadata": {
        "colab": {
          "base_uri": "https://localhost:8080/"
        },
        "id": "eMNgtVEOGT1Y",
        "outputId": "dc420cc3-25ac-4657-c08a-1b02f0e105da"
      },
      "execution_count": 1,
      "outputs": [
        {
          "output_type": "stream",
          "name": "stdout",
          "text": [
            "Ingrese 3 números reales: \n",
            "a: 1\n",
            "e: 2\n",
            "i: 3\n",
            "Ingrese 3 números reales: \n",
            "x: 4\n",
            "y: 5\n",
            "z: 6\n",
            "Esta es la lista de las multiplucaciones uno a uno: [4.0, 10.0, 18.0]\n",
            "El producto punto entre esos dos vectores es: 32.0\n"
          ]
        }
      ]
    }
  ]
}