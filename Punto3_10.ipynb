{
  "nbformat": 4,
  "nbformat_minor": 0,
  "metadata": {
    "colab": {
      "provenance": []
    },
    "kernelspec": {
      "name": "python3",
      "display_name": "Python 3"
    },
    "language_info": {
      "name": "python"
    }
  },
  "cells": [
    {
      "cell_type": "code",
      "source": [
        "print(\"Ingrese 4 números, dos de ellos que sean cero: \")\n",
        "Lista_1=[]\n",
        "a=float(input(\"a: \"))\n",
        "e=float(input(\"e: \"))\n",
        "i=float(input(\"i: \"))\n",
        "o=float(input(\"o: \"))\n",
        "Lista_1.append(a)\n",
        "Lista_1.append(e)\n",
        "Lista_1.append(i)\n",
        "Lista_1.append(o)\n",
        "Lista_Arregada=[]\n",
        "for i in Lista_1:\n",
        "  if i==0:\n",
        "    Lista_1.remove(i)\n",
        "    Lista_1.append(i)\n",
        "print(Lista_1)"
      ],
      "metadata": {
        "colab": {
          "base_uri": "https://localhost:8080/"
        },
        "id": "eMNgtVEOGT1Y",
        "outputId": "edea3815-22d3-4fb9-d20d-74e82a05c10a"
      },
      "execution_count": 3,
      "outputs": [
        {
          "output_type": "stream",
          "name": "stdout",
          "text": [
            "Ingrese 4 números, dos de ellos que sean cero: \n",
            "a: 1\n",
            "e: 0\n",
            "i: 0\n",
            "o: 2\n",
            "[1.0, 2.0, 0.0, 0.0]\n"
          ]
        }
      ]
    }
  ]
}